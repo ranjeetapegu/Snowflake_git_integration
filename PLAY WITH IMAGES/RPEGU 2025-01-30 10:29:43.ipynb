{
 "metadata": {
  "kernelspec": {
   "display_name": "Streamlit Notebook",
   "name": "streamlit"
  },
  "lastEditStatus": {
   "notebookId": "b5yzgcl4qlcf4gdwussb",
   "authorId": "6149508575120",
   "authorName": "RPEGU",
   "authorEmail": "ranjeeta.pegu@snowflake.com",
   "sessionId": "c31824a6-f527-4a4f-9e08-683d2a6f0eb2",
   "lastEditTime": 1738254277034
  }
 },
 "nbformat_minor": 5,
 "nbformat": 4,
 "cells": [
  {
   "cell_type": "code",
   "id": "3775908f-ca36-4846-8f38-5adca39217f2",
   "metadata": {
    "language": "python",
    "name": "libraries",
    "collapsed": false
   },
   "source": "# Import python packages\nimport streamlit as st\nimport pandas as pd\nimport matplotlib.pyplot as plt\n\n\nimport numpy as np\nimport snowflake.snowpark.functions as F\n\n\n# We can also use Snowpark for our analyses!\nfrom snowflake.snowpark.context import get_active_session\nsession = get_active_session()\n",
   "execution_count": null,
   "outputs": []
  },
  {
   "cell_type": "markdown",
   "id": "abb41fd0-e925-4dd2-b1df-a3903e351916",
   "metadata": {
    "name": "cell1",
    "collapsed": false
   },
   "source": "The following types of URLs are available to access files in cloud storage:\n\n**Scoped URL** : \nEncoded URL that permits temporary access to a staged file without granting privileges to the stage.\nThe URL expires when the persisted query result period ends (i.e. the results cache expires), which is currently 24 hours.\n\n**File URL** :\nURL that identifies the database, schema, stage, and file path to a set of files. A role that has sufficient privileges on the stage can access the files.\n\n**Pre-signed URL** : \nSimple HTTPS URL used to access a file via a web browser. A file is temporarily accessible to users via this URL using a pre-signed access token. The expiration time for the access token is configurable.\n\n###  pre-requisite \n* uploaded the data into the stage @spcs_hol_db.deep_learning.data "
  },
  {
   "cell_type": "code",
   "id": "8d50cbf4-0c8d-4950-86cb-114990437ac9",
   "metadata": {
    "language": "sql",
    "name": "cell2",
    "collapsed": false
   },
   "source": "use database spcs_hol_db;\nuse schema spcs_hol_db.deep_learning;\nshow stages;\n\nselect * from DIRECTORY(@DATA)",
   "execution_count": null,
   "outputs": []
  },
  {
   "cell_type": "code",
   "id": "9dc9b9f1-fefe-45d8-93a4-d822e064babc",
   "metadata": {
    "language": "sql",
    "name": "cell5",
    "collapsed": false
   },
   "outputs": [],
   "source": "SELECT  \nget_presigned_url(@data,'test/cats/cat.4001.jpg') as pre_get_presigned_url\n",
   "execution_count": null
  },
  {
   "cell_type": "markdown",
   "id": "6f16c74d-ef88-44db-b8a4-f10ee0db77ea",
   "metadata": {
    "name": "cell4",
    "collapsed": false
   },
   "source": "# Visualise Image Data #"
  },
  {
   "cell_type": "markdown",
   "id": "d9703969-a1a3-4df4-9319-d4d2620d301a",
   "metadata": {
    "name": "cell6",
    "collapsed": false
   },
   "source": "1. The PIL (**Python Imaging Library**) module is being used to open and manipulate the image.\n2. **snowflake.snowpark.FileOperation.get_stream** : Downloads the specified files from a path in a stage and expose it through a stream\n\n\n"
  },
  {
   "cell_type": "code",
   "id": "c695373e-ac74-4b62-a1f1-08206cbd5c81",
   "metadata": {
    "language": "python",
    "name": "cell3",
    "collapsed": false
   },
   "source": "import os\nimport matplotlib.image as mpimg\nfrom PIL import Image\nbytes_object = session.file.get_stream(\"@data/test/cats/cat.4001.jpg\")\nimg = Image.open(bytes_object)\n# Convert the image to a format that matplotlib can display\nimg_array = np.array(img)\nplt.imshow(img_array)\nplt.axis('off')  # Turn off axes for better visualization\nplt.show()",
   "execution_count": null,
   "outputs": []
  }
 ]
}
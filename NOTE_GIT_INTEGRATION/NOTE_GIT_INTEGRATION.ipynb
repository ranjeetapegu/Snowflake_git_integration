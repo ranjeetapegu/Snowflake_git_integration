{
 "metadata": {
  "kernelspec": {
   "display_name": "Streamlit Notebook",
   "name": "streamlit"
  },
  "lastEditStatus": {
   "notebookId": "b6cwmltha2rc4sq6eqto",
   "authorId": "6149508575120",
   "authorName": "RPEGU",
   "authorEmail": "ranjeeta.pegu@snowflake.com",
   "sessionId": "41f4685e-98bf-47fe-b540-4528c19b580f",
   "lastEditTime": 1738336910721
  }
 },
 "nbformat_minor": 5,
 "nbformat": 4,
 "cells": [
  {
   "cell_type": "code",
   "id": "3775908f-ca36-4846-8f38-5adca39217f2",
   "metadata": {
    "language": "python",
    "name": "cell1",
    "collapsed": false
   },
   "source": "# Import python packages\nimport streamlit as st\nimport pandas as pd\nimport matplotlib.pyplot as plt\nimport seaborn as sns\n\n# We can also use Snowpark for our analyses!\nfrom snowflake.snowpark.context import get_active_session\nsession = get_active_session()\n",
   "execution_count": null,
   "outputs": []
  },
  {
   "cell_type": "markdown",
   "id": "4cc0ee4e-13f2-44a3-a51c-a15947db12a2",
   "metadata": {
    "name": "cell11",
    "collapsed": false
   },
   "source": "In this example, we will show how you can easily go from prototying for development purposes to production with Git.\nintegration.\nBy changing the MODE variable to *DEV* or *PROD* with different warehouse and schema configurations.\n\n"
  },
  {
   "cell_type": "code",
   "id": "eea3ba47-451c-4df7-9028-300d1f68b65f",
   "metadata": {
    "language": "python",
    "name": "cell12",
    "collapsed": false
   },
   "outputs": [],
   "source": "MODE =\"PROD\"\nif MODE ==\"DEV\":\n    role ='ACCOUNTADMIN'\n    warehouse_name = \"ML_FS_W\"\n    database = \"ML_MODELS\"\n    schema_name =\"ML_DEVELOPMENT\"\n    size=\"XSMALL\"\nelif MODE ==\"PROD\":\n    role ='ACCOUNTADMIN'\n    warehouse_name=\"XGB_WH\"\n    database = \"ML_MODELS\"\n    schema_name =\"ML_PRODUCTION\"\n    size=\"LARGE\"\n",
   "execution_count": null
  },
  {
   "cell_type": "code",
   "id": "9242d325-74b6-4862-aa96-ae2bde85efcd",
   "metadata": {
    "language": "python",
    "name": "cell13",
    "collapsed": false
   },
   "outputs": [],
   "source": "session.use_database(database)\nsession.use_warehouse(warehouse_name )\nsession.use_schema(schema_name)",
   "execution_count": null
  },
  {
   "cell_type": "code",
   "id": "8d50cbf4-0c8d-4950-86cb-114990437ac9",
   "metadata": {
    "language": "sql",
    "name": "cell2",
    "collapsed": false
   },
   "source": "select current_database();\nselect current_warehouse()\nselect current_tii=mestamp()",
   "execution_count": null,
   "outputs": []
  },
  {
   "cell_type": "markdown",
   "id": "6712f7ac-8094-454b-a68c-7efa8b984415",
   "metadata": {
    "name": "cell4",
    "collapsed": false
   },
   "source": "## EDA- Exploratory Data Analysis\n\n1. line plot,bar plot, historgram, box plot, scatter plot"
  },
  {
   "cell_type": "code",
   "id": "475244fb-6db5-4fa9-946c-6647069c0986",
   "metadata": {
    "language": "python",
    "name": "cell3",
    "collapsed": false
   },
   "outputs": [],
   "source": "sub_df = session.table('ml_poc_db.raw.subcription_data').to_pandas()\nsub_df.head()",
   "execution_count": null
  },
  {
   "cell_type": "code",
   "id": "29fef7e5-d634-40a0-8506-c2c8376cfd4d",
   "metadata": {
    "language": "python",
    "name": "cell5",
    "collapsed": false
   },
   "outputs": [],
   "source": "## Indentifying the type of data info()\nprint(sub_df.info())\n\nprint(f\"Shape of the dataframe {sub_df.shape}\")",
   "execution_count": null
  },
  {
   "cell_type": "markdown",
   "id": "b0478c9e-7645-4d8c-a79f-60ee7a3f72aa",
   "metadata": {
    "name": "cell7",
    "collapsed": false
   },
   "source": "### NUll Values\n"
  },
  {
   "cell_type": "code",
   "id": "c009633e-1ff6-460d-9ce6-02c758dab323",
   "metadata": {
    "language": "python",
    "name": "cell6",
    "collapsed": false
   },
   "outputs": [],
   "source": "# Finding the null values\nprint(sub_df.describe())",
   "execution_count": null
  },
  {
   "cell_type": "code",
   "id": "8a8dc360-060a-49cb-89d2-627d9c2e464f",
   "metadata": {
    "language": "python",
    "name": "cell8",
    "collapsed": false
   },
   "outputs": [],
   "source": "\nsub_df.columns",
   "execution_count": null
  },
  {
   "cell_type": "code",
   "id": "36707f90-5728-46b7-946f-d3505c3c14ef",
   "metadata": {
    "language": "python",
    "name": "cell9",
    "collapsed": false
   },
   "outputs": [],
   "source": "# Count plot\nsns.countplot(x='device_used', data=sub_df)\nplt.title('Count of device use payment')\nplt.show()",
   "execution_count": null
  },
  {
   "cell_type": "code",
   "id": "8c825f14-1acb-4526-b712-e0637399f840",
   "metadata": {
    "language": "python",
    "name": "cell10"
   },
   "outputs": [],
   "source": "sns.countplot(x='device_used', data=sub_df)\nplt.title('Count of device use payment')\nplt.show()",
   "execution_count": null
  }
 ]
}